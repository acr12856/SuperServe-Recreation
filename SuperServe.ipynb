{
 "cells": [
  {
   "cell_type": "code",
   "execution_count": 2,
   "id": "088293fc",
   "metadata": {},
   "outputs": [],
   "source": [
    "import torch\n",
    "import torch.nn as nn\n",
    "import torch.nn.functional as F\n",
    "import random"
   ]
  },
  {
   "cell_type": "code",
   "execution_count": 3,
   "id": "eb444ba5",
   "metadata": {},
   "outputs": [],
   "source": [
    "# Simulated LayerSelect. We can choose whether we want a layer to be active\n",
    "# or not by toggling the active parameter. \n",
    "class LayerSelect(nn.Module):\n",
    "    def __init__(self, layer, active=True):\n",
    "        super().__init__()\n",
    "        self.layer = layer\n",
    "        self.active = active\n",
    "\n",
    "    def forward(self, x):\n",
    "        if self.active:\n",
    "            return self.layer(x)\n",
    "        else:\n",
    "            return x  # Skip layer"
   ]
  },
  {
   "cell_type": "code",
   "execution_count": 4,
   "id": "a27b09c1",
   "metadata": {},
   "outputs": [],
   "source": [
    "# Simulated SubnetNorm\n",
    "class SubnetNorm2d(nn.Module):\n",
    "    def __init__(self, num_channels, eps=1e-5):\n",
    "        super().__init__()\n",
    "        self.num_channels = num_channels\n",
    "        self.eps = eps\n",
    "        self.stats = {}  # config_id -> {\"mean\": tensor, \"var\": tensor}\n",
    "        self.active_config = None\n",
    "\n",
    "    def set_active(self, config_id):\n",
    "        self.active_config = config_id\n",
    "\n",
    "    def forward(self, x):\n",
    "        if self.active_config is None:\n",
    "            raise ValueError(\"Active configuration not set for SubnetNorm2d\")\n",
    "\n",
    "        stats = self.stats[self.active_config]\n",
    "        C = x.shape[1]\n",
    "        mean = stats[\"mean\"][:C]\n",
    "        var = stats[\"var\"][:C]\n",
    "\n",
    "        return (x - mean[None, :, None, None]) / (torch.sqrt(var[None, :, None, None] + self.eps))"
   ]
  },
  {
   "cell_type": "code",
   "execution_count": 5,
   "id": "26abafb1",
   "metadata": {},
   "outputs": [],
   "source": [
    "# Simulated ResNet blocks. Has a convolution layer followed by a batchnorm layer followed by\n",
    "# another convolution layer followed by another batchnorm layer. \n",
    "class BasicBlock(nn.Module):\n",
    "    def __init__(self, in_channels, out_channels, stride=1, width_mult=1.0):\n",
    "        super().__init__()\n",
    "\n",
    "        # layer initialization, mid_channels represents our output channels based on WeightSlice\n",
    "        mid_channels = int(out_channels * width_mult)\n",
    "        self.conv1 = nn.Conv2d(in_channels, mid_channels, kernel_size=3, stride=stride, padding=1, bias=False)\n",
    "        self.bn1 = SubnetNorm2d(out_channels)\n",
    "        self.conv2 = nn.Conv2d(mid_channels, out_channels, kernel_size=3, stride=1, padding=1, bias=False)\n",
    "        self.bn2 = SubnetNorm2d(out_channels)\n",
    "\n",
    "        # define downsampling function for shape matching\n",
    "        self.downsample = nn.Sequential()\n",
    "        if stride != 1 or in_channels != out_channels:\n",
    "            self.downsample = nn.Sequential(\n",
    "                nn.Conv2d(in_channels, out_channels, kernel_size=1, stride=stride, bias=False),\n",
    "                nn.BatchNorm2d(out_channels)\n",
    "            )\n",
    "\n",
    "    def forward(self, x):\n",
    "        identity = self.downsample(x)\n",
    "        out = F.relu(self.bn1(self.conv1(x)))\n",
    "        out = self.bn2(self.conv2(out))\n",
    "        return F.relu(out + identity)"
   ]
  },
  {
   "cell_type": "code",
   "execution_count": 6,
   "id": "39340751",
   "metadata": {},
   "outputs": [],
   "source": [
    "# Simulated SuperNet. \n",
    "# We represent LayerSelect by choosing which BasicBlocks we want to be active.\n",
    "class MiniSuperNet(nn.Module):\n",
    "    def __init__(self, depth=3, width_mult=1.0):\n",
    "        super().__init__()\n",
    "        self.width_mult = width_mult\n",
    "        self.depth = depth        \n",
    "\n",
    "        # initial stem definition\n",
    "        self.stem = nn.Sequential(\n",
    "            nn.Conv2d(3, 64, kernel_size=3, padding=1),\n",
    "            SubnetNorm2d(64),\n",
    "            nn.ReLU(inplace=True)\n",
    "        )\n",
    "\n",
    "        # hardcoded 4 residual blocks that we will dynamically activate\n",
    "        self.blocks = nn.ModuleList()\n",
    "        in_out_channels = [(64, 64), (64, 128), (128, 128), (128, 256)]\n",
    "        for i, (in_c, out_c) in enumerate(in_out_channels):\n",
    "            block = BasicBlock(in_c, out_c, stride=2 if i > 0 else 1, width_mult=width_mult)\n",
    "            self.blocks.append(LayerSelect(block, active=(i < depth)))\n",
    "\n",
    "        # define pooling function\n",
    "        self.pool = nn.AdaptiveAvgPool2d((1, 1))\n",
    "    \n",
    "    # finds the SubnetNorm2d layer and sets the active config to the (config id) config\n",
    "    def set_active_config(self, config_id):\n",
    "        for layer in self.modules():\n",
    "            if isinstance(layer, SubnetNorm2d):\n",
    "                layer.set_active(config_id)\n",
    "\n",
    "    def forward(self, x):\n",
    "        x = self.stem(x)\n",
    "        for block in self.blocks:\n",
    "            x = block(x)\n",
    "        x = self.pool(x).squeeze(-1).squeeze(-1)\n",
    "\n",
    "        if not hasattr(self, 'fc') or self.fc.in_features != x.shape[1]:\n",
    "            self.fc = nn.Linear(x.shape[1], 10).to(x.device)\n",
    "\n",
    "        return self.fc(x)"
   ]
  },
  {
   "cell_type": "code",
   "execution_count": 7,
   "id": "c35accc9",
   "metadata": {},
   "outputs": [],
   "source": [
    "# simply fake stats population. ideally during training, we would get mean and variance\n",
    "# statistics for these configurations and would load them as we set up our infrastructure. \n",
    "def populate_fake_stats(model, config_id, num_channels_per_layer):\n",
    "    for m in model.modules():\n",
    "        if isinstance(m, SubnetNorm2d):\n",
    "            C = num_channels_per_layer.get(m, m.num_channels)\n",
    "            mean = torch.randn(C) * 0.1  # fake mean\n",
    "            var = torch.rand(C) * 0.2 + 0.1  # fake var, avoid near-zero\n",
    "            m.stats[config_id] = {\n",
    "                \"mean\": mean,\n",
    "                \"var\": var\n",
    "            }"
   ]
  },
  {
   "cell_type": "code",
   "execution_count": 8,
   "id": "0fd6df1c",
   "metadata": {},
   "outputs": [
    {
     "name": "stdout",
     "output_type": "stream",
     "text": [
      "torch.Size([8, 10])\n"
     ]
    }
   ],
   "source": [
    "model = MiniSuperNet(depth=3, width_mult=0.75)\n",
    "# TODO: implement a realistic version of statistic population\n",
    "populate_fake_stats(model, \"D3_W75\", num_channels_per_layer={})\n",
    "model.set_active_config(\"D3_W75\")\n",
    "\n",
    "x = torch.randn(8, 3, 32, 32)\n",
    "logits = model(x)\n",
    "print(logits.shape)"
   ]
  }
 ],
 "metadata": {
  "kernelspec": {
   "display_name": "SuperServe",
   "language": "python",
   "name": "python3"
  },
  "language_info": {
   "codemirror_mode": {
    "name": "ipython",
    "version": 3
   },
   "file_extension": ".py",
   "mimetype": "text/x-python",
   "name": "python",
   "nbconvert_exporter": "python",
   "pygments_lexer": "ipython3",
   "version": "3.13.5"
  }
 },
 "nbformat": 4,
 "nbformat_minor": 5
}
